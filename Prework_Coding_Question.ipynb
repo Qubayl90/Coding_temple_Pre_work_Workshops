{
  "nbformat": 4,
  "nbformat_minor": 0,
  "metadata": {
    "colab": {
      "provenance": [],
      "authorship_tag": "ABX9TyO7T6L/9ROcYbMsoqv4GROf",
      "include_colab_link": true
    },
    "kernelspec": {
      "name": "python3",
      "display_name": "Python 3"
    },
    "language_info": {
      "name": "python"
    }
  },
  "cells": [
    {
      "cell_type": "markdown",
      "metadata": {
        "id": "view-in-github",
        "colab_type": "text"
      },
      "source": [
        "<a href=\"https://colab.research.google.com/github/Qubayl90/Coding_temple_Pre_work_Workshops/blob/main/Prework_Coding_Question.ipynb\" target=\"_parent\"><img src=\"https://colab.research.google.com/assets/colab-badge.svg\" alt=\"Open In Colab\"/></a>"
      ]
    },
    {
      "cell_type": "markdown",
      "source": [
        "Question 1\n",
        "Write a function to print \"hello_USERNAME!\" USERNAME is the input of the function. The first line of the code has been defined as below."
      ],
      "metadata": {
        "id": "h64Vr25w-n6Z"
      }
    },
    {
      "cell_type": "code",
      "execution_count": null,
      "metadata": {
        "colab": {
          "base_uri": "https://localhost:8080/"
        },
        "id": "Wl2xmEyDsacq",
        "outputId": "e836e69d-56f0-441b-ccbe-923db5d5000c"
      },
      "outputs": [
        {
          "output_type": "stream",
          "name": "stdout",
          "text": [
            "hello_FirstUser\n"
          ]
        }
      ],
      "source": [
        "def hello_name(user_name):\n",
        "  print(\"hello_\"+user_name)\n",
        "hello_name(\"FirstUser\")"
      ]
    },
    {
      "cell_type": "markdown",
      "source": [
        "Question 2\n",
        "Write a python function, first_odds that prints the odd numbers from 1-100 and returns nothing"
      ],
      "metadata": {
        "id": "PviZWo6I-amF"
      }
    },
    {
      "cell_type": "code",
      "source": [
        "def first_odds():\n",
        "  for i in range(100):\n",
        "    if(i%2 == 1):\n",
        "      print(i, end=\" \")\n",
        "first_odds()"
      ],
      "metadata": {
        "colab": {
          "base_uri": "https://localhost:8080/"
        },
        "id": "yXhM_zfa-wxd",
        "outputId": "968ba15e-b1e4-4367-d6f5-8043369899de"
      },
      "execution_count": null,
      "outputs": [
        {
          "output_type": "stream",
          "name": "stdout",
          "text": [
            "1 3 5 7 9 11 13 15 17 19 21 23 25 27 29 31 33 35 37 39 41 43 45 47 49 51 53 55 57 59 61 63 65 67 69 71 73 75 77 79 81 83 85 87 89 91 93 95 97 99 "
          ]
        }
      ]
    },
    {
      "cell_type": "markdown",
      "source": [
        "Question 3\n",
        "Please write a Python function, max_num_in_list to return the max number of a given list. The first line of the code has been defined as below."
      ],
      "metadata": {
        "id": "tRciSkaM-y9b"
      }
    },
    {
      "cell_type": "code",
      "source": [
        "def max_num_in_list(a_list):\n",
        "  return(max(a_list))\n",
        "list1 = [23,52,35,20,44,36,12]\n",
        "\n",
        "print(max_num_in_list(list1))"
      ],
      "metadata": {
        "colab": {
          "base_uri": "https://localhost:8080/"
        },
        "id": "tdvGw021-3FU",
        "outputId": "4fc7873d-fd4e-4239-9d24-9deedc956c00"
      },
      "execution_count": null,
      "outputs": [
        {
          "output_type": "stream",
          "name": "stdout",
          "text": [
            "52\n"
          ]
        }
      ]
    },
    {
      "cell_type": "markdown",
      "source": [
        "Question 4\n",
        "Write a function to return if the given year is a leap year. A leap year is divisible by 4, but not divisible by 100, unless it is also divisible by 400. The return should be boolean Type (true/false)."
      ],
      "metadata": {
        "id": "JV2tCLC7-5iJ"
      }
    },
    {
      "cell_type": "code",
      "source": [
        "def is_leap_year(a_year):\n",
        "  if(a_year%4 == 0 and (a_year%100 !=0 or a_year%400 == 0)):\n",
        "    return True\n",
        "  else:\n",
        "    return False\n",
        "\n",
        "print(is_leap_year(1600))"
      ],
      "metadata": {
        "colab": {
          "base_uri": "https://localhost:8080/"
        },
        "id": "FgkNzoQR-9cg",
        "outputId": "acfac81b-2ca7-453e-ef8d-249685cf1dd6"
      },
      "execution_count": null,
      "outputs": [
        {
          "output_type": "stream",
          "name": "stdout",
          "text": [
            "True\n"
          ]
        }
      ]
    },
    {
      "cell_type": "markdown",
      "source": [
        "Question 5\n",
        "Write a function to check to see if all numbers in list are consecutive numbers. For example, [2,3,4,5,6,7] are consecutive numbers, but [1,2,4,5] are not consecutive numbers. The return should be boolean Type"
      ],
      "metadata": {
        "id": "GaYwNL8S-_uV"
      }
    },
    {
      "cell_type": "code",
      "source": [
        "def is_consecutive(a_list):\n",
        "  for i in range(0, len(a_list)-1):\n",
        "    if(a_list[i+1] != a_list[i]+1):\n",
        "      return False\n",
        "  return True\n",
        "list1 = [2,3,4,5,6,7]\n",
        "print(is_consecutive(list1))\n",
        "list2 = [1,2,4,5,6,7]\n",
        "print(is_consecutive(list2))"
      ],
      "metadata": {
        "colab": {
          "base_uri": "https://localhost:8080/"
        },
        "id": "QVvlbMqM_CAv",
        "outputId": "396ce7fc-b895-49a2-a4f8-92049ddde84b"
      },
      "execution_count": null,
      "outputs": [
        {
          "output_type": "stream",
          "name": "stdout",
          "text": [
            "True\n",
            "False\n"
          ]
        }
      ]
    }
  ]
}